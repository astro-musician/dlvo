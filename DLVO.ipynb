{
 "cells": [
  {
   "cell_type": "markdown",
   "id": "d5689076",
   "metadata": {},
   "source": [
    "Importation de la bibliothèque créée spécifiquement pour fit un profil DLVO :"
   ]
  },
  {
   "cell_type": "code",
   "execution_count": 1,
   "id": "e15aa27a",
   "metadata": {},
   "outputs": [
    {
     "name": "stderr",
     "output_type": "stream",
     "text": [
      "/opt/anaconda3/envs/dlvo/lib/python3.13/site-packages/tqdm/auto.py:21: TqdmWarning: IProgress not found. Please update jupyter and ipywidgets. See https://ipywidgets.readthedocs.io/en/stable/user_install.html\n",
      "  from .autonotebook import tqdm as notebook_tqdm\n"
     ]
    }
   ],
   "source": [
    "from DLVOlib.params import DLVO_parameters"
   ]
  },
  {
   "cell_type": "markdown",
   "id": "a9145e31",
   "metadata": {},
   "source": [
    "Réglages du code. La seule donnée obligatoire est le chemin vers le fichier de données (datafile).\n",
    "\n",
    "Il est possible de spécifier une erreur particulière pour la mesure des forces (en pN). La valeur par défaut est 0.5 pN.\n",
    "\n",
    "Le réglage cutoff permet d'occulter les données en-dessous d'une certaine échelle (en nm). La valeur par défaut est 0, donc tout est pris en compte.\n",
    "\n",
    "Par défaut, si un profil a déjà été fit sur un fichier de données, il est sauvegardé et réutilisé. Pour le fit à nouveau, il faut entrer rerun=True ."
   ]
  },
  {
   "cell_type": "code",
   "execution_count": 2,
   "id": "d32dab3f",
   "metadata": {},
   "outputs": [],
   "source": [
    "datafile = 'data/127_B_3,12um_0mgg_27-03-25_moyenne_force_distance.txt'\n",
    "force_err = 0.5\n",
    "cutoff = 0\n",
    "rerun = False"
   ]
  },
  {
   "cell_type": "markdown",
   "id": "301ee95e",
   "metadata": {},
   "source": [
    "Calcul des paramètres et tracé des figures pour analyser les résultats :"
   ]
  },
  {
   "cell_type": "code",
   "execution_count": 3,
   "id": "259ea307",
   "metadata": {},
   "outputs": [
    {
     "name": "stdout",
     "output_type": "stream",
     "text": [
      "<xarray.Dataset> Size: 24B\n",
      "Dimensions:  ()\n",
      "Data variables:\n",
      "    alpha    float64 8B 1.002\n",
      "    beta     float64 8B 1.002\n",
      "    k        float64 8B 1.002\n"
     ]
    }
   ],
   "source": [
    "params = DLVO_parameters(datafile,cutoff=cutoff,force_err=force_err,rerun=rerun)\n",
    "params.get_parameters()\n",
    "params.compare_model()"
   ]
  },
  {
   "cell_type": "markdown",
   "id": "6fc5b89c",
   "metadata": {},
   "source": [
    "datafile_chains.pdf montre les distributions de probabilité pour chaque paramètre (à gauche, une par chaîne) ainsi que les chaînes ayant servi à les échantillonner (droite). Visuellement, si on reconnaît des gaussiennes à gauche et un brouillon à droite, c'est que l'algorithme a convergé. On peut caractériser plus rigoureusement la convergence via les valeurs rhat, qui sont affichées ci-dessus pour chaque paramètre à fit : elles doivent valoir 1 à environ 0.01 près. Il s'agit surtout d'un graphe permettant de détecter des défauts dans l'algorithme, les résultats sont plus propres à visualiser sur cornerplot.\n",
    "\n",
    "datafile_compare_model.pdf trace le modèle superposé aux données, avec des barres d'erreur tirées des distributions de probabilité visualisables sur datafile_chains.pdf."
   ]
  }
 ],
 "metadata": {
  "kernelspec": {
   "display_name": "dlvo",
   "language": "python",
   "name": "python3"
  },
  "language_info": {
   "codemirror_mode": {
    "name": "ipython",
    "version": 3
   },
   "file_extension": ".py",
   "mimetype": "text/x-python",
   "name": "python",
   "nbconvert_exporter": "python",
   "pygments_lexer": "ipython3",
   "version": "3.13.2"
  }
 },
 "nbformat": 4,
 "nbformat_minor": 5
}
